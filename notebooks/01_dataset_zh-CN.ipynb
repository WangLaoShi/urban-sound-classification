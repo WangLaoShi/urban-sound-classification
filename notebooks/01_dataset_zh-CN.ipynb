{
 "cells": [
  {
   "cell_type": "markdown",
   "metadata": {},
   "source": [
    "# 训练和测试集创建\n",
    "\n",
    "该项目的第一步包括训练和测试集的创建。\n",
    "\n",
    "## 特征提取\n",
    "\n",
    "数据集是使用 Features 类创建的。\n",
    "每个音频文件都加载到内存中，并提取以下特征：\n",
    "- mfcc 梅尔频率倒谱系数\n",
    "- chroma 色度\n",
    "- rms 均方根\n",
    "\n",
    "然后使用以下函数减少每个特征数组：\n",
    "- min 最小值\n",
    "- max 最大限度\n",
    "- median 中位数\n",
    "- mean 均值\n",
    "\n",
    "将结果连接起来，从每个音频中提取总共 132 个特征。\n",
    "\n",
    "## 结构\n",
    "\n",
    "数据集按以下结构组织\n",
    "\n",
    "$$\\mathit{class}, \\; \\mathit{feature}_1, \\; \\dots, \\; \\mathit{feature}_n$$\n",
    "\n",
    "## 缩放\n",
    "\n",
    "将标准缩放器应用于训练集并将其保存到磁盘。\n",
    "当处理测试折叠时，相同的缩放器会应用于数据。\n",
    "\n",
    "## Dask 加速\n",
    "\n",
    "为了加快计算速度，使用了 Dask。\n",
    "\n",
    "总共有 4 个 worker 并行工作，以更有效地提取特征，将单个文件夹的时间从大约 70 秒减少到不到 30 秒。\n",
    "\n",
    "## 训练数据集\n",
    "\n",
    "第一步是获取训练数据集，考虑的文件夹是**前四个文件夹和第六个文件夹**。获取的数据集中的样本总数为 4499。\n"
   ]
  },
  {
   "metadata": {},
   "cell_type": "markdown",
   "source": "## 环境设置"
  },
  {
   "cell_type": "code",
   "execution_count": null,
   "metadata": {},
   "outputs": [],
   "source": [
    "!pip install wanglaoshi"
   ]
  },
  {
   "cell_type": "code",
   "execution_count": null,
   "metadata": {},
   "outputs": [],
   "source": [
    "from wanglaoshi import JupyterEnv as JE\n",
    "JE.jupyter_kernel_list()"
   ]
  },
  {
   "cell_type": "code",
   "execution_count": null,
   "metadata": {},
   "outputs": [],
   "source": [
    "JE.install_kernel()"
   ]
  },
  {
   "cell_type": "markdown",
   "metadata": {},
   "source": "> 创建完之后，刷新环境，选择对应的库，然后安装依赖库。"
  },
  {
   "cell_type": "code",
   "execution_count": null,
   "metadata": {},
   "outputs": [],
   "source": [
    "!pip install -r /mnt/workspace/urban-sound-classification/src/requirements.txt"
   ]
  },
  {
   "cell_type": "code",
   "execution_count": null,
   "metadata": {},
   "outputs": [],
   "source": [
    "!pip install dask"
   ]
  },
  {
   "cell_type": "code",
   "execution_count": null,
   "metadata": {},
   "outputs": [],
   "source": [
    "!pip install \"dask[distributed]\" --upgrade"
   ]
  },
  {
   "cell_type": "markdown",
   "metadata": {},
   "source": [
    "## 拉取数据\n",
    "\n",
    "在命令行工具中依次执行\n",
    "\n",
    "\n",
    "![0oKZjO](https://upiclw.oss-cn-beijing.aliyuncs.com/uPic/0oKZjO.png)\n",
    "\n",
    "```shell\n",
    "mkdir /mnt/workspace/urban-sound-classification/data/raw/\n",
    "```\n",
    "\n",
    "```shell\n",
    "git clone https://github.com/WangLaoShi/UrbanSound8K.git /mnt/workspace/urban-sound-classification/data/raw/\n",
    "```\n",
    "\n",
    "```shell\n",
    "ls /mnt/workspace/urban-sound-classification/data/raw\n",
    "```\n",
    "\n",
    "```shell\n",
    "mv /mnt/workspace/urban-sound-classification/data/raw/UrbanSound8K/metadata/ /mnt/workspace/urban-sound-classification/data/raw/\n",
    "```\n",
    "\n",
    "```shell\n",
    "mv /mnt/workspace/urban-sound-classification/data/raw/UrbanSound8K/audio/ /mnt/workspace/urban-sound-classification/data/raw/\n",
    "```\n",
    "\n"
   ]
  },
  {
   "cell_type": "code",
   "execution_count": 30,
   "metadata": {
    "ExecuteTime": {
     "end_time": "2024-11-06T08:30:00.093551Z",
     "start_time": "2024-11-06T08:30:00.085824Z"
    },
    "execution": {
     "iopub.execute_input": "2024-11-06T10:12:44.056111Z",
     "iopub.status.busy": "2024-11-06T10:12:44.055616Z",
     "iopub.status.idle": "2024-11-06T10:12:44.061167Z",
     "shell.execute_reply": "2024-11-06T10:12:44.060045Z",
     "shell.execute_reply.started": "2024-11-06T10:12:44.056084Z"
    },
    "tags": []
   },
   "outputs": [
    {
     "name": "stdout",
     "output_type": "stream",
     "text": [
      "0.10.1\n"
     ]
    }
   ],
   "source": [
    "import librosa\n",
    "print(librosa.__version__)"
   ]
  },
  {
   "cell_type": "code",
   "execution_count": 33,
   "metadata": {
    "execution": {
     "iopub.execute_input": "2024-11-06T10:13:03.585546Z",
     "iopub.status.busy": "2024-11-06T10:13:03.585242Z",
     "iopub.status.idle": "2024-11-06T10:13:03.589045Z",
     "shell.execute_reply": "2024-11-06T10:13:03.588474Z",
     "shell.execute_reply.started": "2024-11-06T10:13:03.585526Z"
    },
    "tags": []
   },
   "outputs": [],
   "source": [
    "import sys\n",
    "sys.path.append(\"..\")\n",
    "from src.data import Features\n",
    "import pandas as pd\n",
    "import numpy as np"
   ]
  },
  {
   "cell_type": "markdown",
   "metadata": {},
   "source": [
    "## 未缩放的训练集\n",
    "以下单元格提取未缩放的训练集。"
   ]
  },
  {
   "cell_type": "code",
   "metadata": {
    "execution": {
     "iopub.execute_input": "2024-11-06T10:13:07.256997Z",
     "iopub.status.busy": "2024-11-06T10:13:07.256634Z",
     "iopub.status.idle": "2024-11-06T10:13:07.374149Z",
     "shell.execute_reply": "2024-11-06T10:13:07.371828Z",
     "shell.execute_reply.started": "2024-11-06T10:13:07.256975Z"
    },
    "tags": []
   },
   "source": [
    "f = Features(save_path=\"../data/processed/initial\",\n",
    "             save_name=\"train_unscaled\",\n",
    "             folds=[1,2,3,4,6])\n",
    "\n",
    "training_dataframe = f.get_dataframe()\n",
    "f.save_dataframe(training_dataframe)"
   ],
   "outputs": [],
   "execution_count": null
  },
  {
   "cell_type": "code",
   "execution_count": null,
   "metadata": {
    "execution": {
     "iopub.status.busy": "2024-11-06T10:10:34.208485Z",
     "iopub.status.idle": "2024-11-06T10:10:34.208710Z",
     "shell.execute_reply": "2024-11-06T10:10:34.208609Z",
     "shell.execute_reply.started": "2024-11-06T10:10:34.208600Z"
    }
   },
   "outputs": [],
   "source": [
    "training_dataframe"
   ]
  },
  {
   "cell_type": "markdown",
   "metadata": {},
   "source": [
    "## 缩放数据集\n",
    "将标准缩放器应用于数据集并保存以供稍后在测试集上进行缩放。"
   ]
  },
  {
   "cell_type": "code",
   "execution_count": null,
   "metadata": {
    "execution": {
     "iopub.status.busy": "2024-11-06T10:10:34.210608Z",
     "iopub.status.idle": "2024-11-06T10:10:34.211053Z",
     "shell.execute_reply": "2024-11-06T10:10:34.210942Z",
     "shell.execute_reply.started": "2024-11-06T10:10:34.210929Z"
    }
   },
   "outputs": [],
   "source": [
    "scaled_df = f.scale_dataframe(training_dataframe, \n",
    "                              save_scaler=True)\n",
    "scaled_df"
   ]
  },
  {
   "cell_type": "code",
   "execution_count": null,
   "metadata": {
    "execution": {
     "iopub.status.busy": "2024-11-06T10:10:34.212921Z",
     "iopub.status.idle": "2024-11-06T10:10:34.213373Z",
     "shell.execute_reply": "2024-11-06T10:10:34.213263Z",
     "shell.execute_reply.started": "2024-11-06T10:10:34.213252Z"
    }
   },
   "outputs": [],
   "source": "f.save_dataframe(scaled_df, save_name=\"train_scaled\")"
  },
  {
   "cell_type": "markdown",
   "metadata": {},
   "source": [
    "## 测试数据集\n",
    "\n",
    "得到训练集之后，从其他文件夹中获取多个测试集。\n",
    "\n",
    "每一个都以缩放和未缩放的形式保存，以测试缩放改进。"
   ]
  },
  {
   "cell_type": "code",
   "execution_count": null,
   "metadata": {
    "execution": {
     "iopub.status.busy": "2024-11-06T10:10:34.215046Z",
     "iopub.status.idle": "2024-11-06T10:10:34.215655Z",
     "shell.execute_reply": "2024-11-06T10:10:34.215549Z",
     "shell.execute_reply.started": "2024-11-06T10:10:34.215538Z"
    },
    "tags": []
   },
   "outputs": [],
   "source": [
    "for fold in [5, 7, 8, 9, 10]:\n",
    "    print(f\"处理文件夹 {fold}\")\n",
    "    \n",
    "    f = Features(save_path=\"../data/processed/initial\",\n",
    "                 save_name=f\"test_{fold}_unscaled\",\n",
    "                 folds=[fold])\n",
    "    \n",
    "    df = f.get_dataframe()\n",
    "    f.save_dataframe(df)\n",
    "    \n",
    "    scaled = f.apply_scaling(df, \"../models/scalers/scaler_training.pkl\")\n",
    "    f.save_dataframe(scaled, save_name=f\"test_{fold}_scaled\")"
   ]
  }
 ],
 "metadata": {
  "kernelspec": {
   "display_name": "Urban_Sound",
   "language": "python",
   "name": "urban"
  },
  "language_info": {
   "codemirror_mode": {
    "name": "ipython",
    "version": 3
   },
   "file_extension": ".py",
   "mimetype": "text/x-python",
   "name": "python",
   "nbconvert_exporter": "python",
   "pygments_lexer": "ipython3",
   "version": "3.10.14"
  }
 },
 "nbformat": 4,
 "nbformat_minor": 4
}
