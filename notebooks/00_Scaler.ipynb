{
 "cells": [
  {
   "metadata": {},
   "cell_type": "markdown",
   "source": [
    "“Scale the dataframe and optionally save the scaler on file” 可以理解为对数据框中的数值数据进行标准化或归一化处理，然后将用于转换的缩放器（scaler）对象保存到文件中，以便以后可以对新的数据进行相同的缩放。\n",
    "\n",
    "具体解释\n",
    "\n",
    "1.\tScale the dataframe:\n",
    "\n",
    "* 这个过程主要指将数据框中的数值特征进行标准化（或归一化），以使它们在同一尺度上。比如，使用 StandardScaler 将数据缩放为均值为 0、标准差为 1，或使用 MinMaxScaler 将数据缩放到指定范围（通常为 0 到 1）。\n",
    "* 缩放数据可以帮助机器学习模型更快收敛，并且在某些算法（如距离度量算法）中尤为重要。\n",
    "\t\n",
    "2. Save the scaler on file:\n",
    "\n",
    "* 在缩放数据的过程中，缩放器会基于当前数据集计算出一组转换参数，比如每个特征的均值、标准差或最小值、最大值。\n",
    "* 将这个缩放器对象保存下来，就可以将相同的转换应用于其他数据集（例如，在模型的测试阶段对新的数据集进行相同的缩放）。\n",
    "* 保存缩放器通常使用 pickle 或 joblib，把缩放器对象序列化后保存成文件。\n",
    "\n",
    "示例代码\n",
    "\n",
    "下面是一个使用 StandardScaler 缩放数据框并将缩放器对象保存到文件的示例："
   ],
   "id": "a43e5389ad158a3"
  },
  {
   "metadata": {},
   "cell_type": "code",
   "outputs": [],
   "execution_count": null,
   "source": [
    "\n",
    "import pandas as pd\n",
    "from sklearn.preprocessing import StandardScaler\n",
    "import joblib  # joblib 用于保存对象到文件\n",
    "\n",
    "# 假设有一个数据框 df\n",
    "df = pd.DataFrame({\n",
    "    'feature1': [1, 2, 3, 4, 5],\n",
    "    'feature2': [10, 20, 30, 40, 50]\n",
    "})\n",
    "\n",
    "# 创建缩放器并进行缩放\n",
    "scaler = StandardScaler()\n",
    "scaled_data = scaler.fit_transform(df)  # 对数据框中的数值列进行缩放\n",
    "\n",
    "# 将缩放后的数据转换为数据框格式\n",
    "scaled_df = pd.DataFrame(scaled_data, columns=df.columns)\n",
    "\n",
    "# 可选：将缩放器对象保存到文件\n",
    "joblib.dump(scaler, 'scaler.pkl')  # 保存缩放器到文件 'scaler.pkl'\n",
    "\n",
    "print(\"Scaled DataFrame:\")\n",
    "print(scaled_df)"
   ],
   "id": "2ef55216d4d593d4"
  },
  {
   "metadata": {},
   "cell_type": "markdown",
   "source": [
    "\n",
    "使用保存的缩放器\n",
    "\n",
    "之后，你可以加载保存的缩放器对象，对新的数据集应用相同的缩放："
   ],
   "id": "938df3a0a1a52e99"
  },
  {
   "metadata": {},
   "cell_type": "code",
   "outputs": [],
   "execution_count": null,
   "source": [
    "\n",
    "# 加载保存的缩放器对象\n",
    "scaler = joblib.load('scaler.pkl')\n",
    "\n",
    "# 对新的数据进行缩放（transform 而不是 fit_transform）\n",
    "new_data = pd.DataFrame({\n",
    "    'feature1': [6, 7],\n",
    "    'feature2': [60, 70]\n",
    "})\n",
    "scaled_new_data = scaler.transform(new_data)\n",
    "print(\"Scaled New Data:\")\n",
    "print(scaled_new_data)"
   ],
   "id": "d693ec83ea030d69"
  },
  {
   "metadata": {},
   "cell_type": "markdown",
   "source": [
    "\n",
    "总结\n",
    "\n",
    "“Scale the dataframe and optionally save the scaler on file”意味着：\n",
    "\n",
    "* 通过缩放器对数据框中的数值列进行缩放处理。\n",
    "* （可选地）将缩放器对象保存到文件，以便以后可以对新数据集应用相同的缩放转换。"
   ],
   "id": "5f1d598bf47ade31"
  }
 ],
 "metadata": {
  "kernelspec": {
   "display_name": "Python 3",
   "language": "python",
   "name": "python3"
  },
  "language_info": {
   "codemirror_mode": {
    "name": "ipython",
    "version": 2
   },
   "file_extension": ".py",
   "mimetype": "text/x-python",
   "name": "python",
   "nbconvert_exporter": "python",
   "pygments_lexer": "ipython2",
   "version": "2.7.6"
  }
 },
 "nbformat": 4,
 "nbformat_minor": 5
}
