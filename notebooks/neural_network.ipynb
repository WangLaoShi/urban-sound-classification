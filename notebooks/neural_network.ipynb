{
 "cells": [
  {
   "cell_type": "code",
   "execution_count": 1,
   "source": [
    "from tensorflow import keras\n",
    "from tensorflow.keras import layers\n",
    "import sys\n",
    "sys.path.append(\"..\")\n",
    "from src.data import Dataset\n",
    "from src.model import NeuralNetwork"
   ],
   "outputs": [],
   "metadata": {}
  },
  {
   "cell_type": "markdown",
   "source": [
    "# Training set"
   ],
   "metadata": {}
  },
  {
   "cell_type": "code",
   "execution_count": 2,
   "source": [
    "d = Dataset(dataset_path=\"../data/processed/train_07_18_2021.csv\")\n",
    "x_train, x_val, y_train, y_val = d.get_splits()"
   ],
   "outputs": [],
   "metadata": {}
  },
  {
   "cell_type": "markdown",
   "source": [
    "# Building the network"
   ],
   "metadata": {}
  },
  {
   "cell_type": "code",
   "execution_count": 3,
   "source": [
    "net = NeuralNetwork(layers=[layers.Dense(units=132, activation='relu'),\n",
    "                            layers.Dense(units=68, activation='relu'),\n",
    "                            layers.Dense(units=30, activation='relu'),\n",
    "                            layers.Dense(10, activation='softmax')], \n",
    "                    optimizer=keras.optimizers.RMSprop(), \n",
    "                    loss=keras.losses.SparseCategoricalCrossentropy(), \n",
    "                    metrics=[\"accuracy\"])"
   ],
   "outputs": [],
   "metadata": {}
  },
  {
   "cell_type": "code",
   "execution_count": 4,
   "source": [
    "\n",
    "history = net.fit(x_train, \n",
    "        y_train, \n",
    "        validation_data=(x_val, y_val),\n",
    "        batch_size=128, \n",
    "        epochs=50);"
   ],
   "outputs": [
    {
     "output_type": "stream",
     "name": "stdout",
     "text": [
      "Epoch 1/50\n",
      "32/32 - 1s - loss: 1.5941 - accuracy: 0.4838 - val_loss: 1.0609 - val_accuracy: 0.7178\n",
      "Epoch 2/50\n",
      "32/32 - 0s - loss: 0.9412 - accuracy: 0.7207 - val_loss: 0.7755 - val_accuracy: 0.7644\n",
      "Epoch 3/50\n",
      "32/32 - 0s - loss: 0.6733 - accuracy: 0.8061 - val_loss: 0.6344 - val_accuracy: 0.7778\n",
      "Epoch 4/50\n",
      "32/32 - 0s - loss: 0.5207 - accuracy: 0.8481 - val_loss: 0.5125 - val_accuracy: 0.8244\n",
      "Epoch 5/50\n",
      "32/32 - 0s - loss: 0.4150 - accuracy: 0.8753 - val_loss: 0.4686 - val_accuracy: 0.8467\n",
      "Epoch 6/50\n",
      "32/32 - 0s - loss: 0.3432 - accuracy: 0.8950 - val_loss: 0.3811 - val_accuracy: 0.8711\n",
      "Epoch 7/50\n",
      "32/32 - 0s - loss: 0.2906 - accuracy: 0.9160 - val_loss: 0.3616 - val_accuracy: 0.8822\n",
      "Epoch 8/50\n",
      "32/32 - 0s - loss: 0.2425 - accuracy: 0.9311 - val_loss: 0.3604 - val_accuracy: 0.8844\n",
      "Epoch 9/50\n",
      "32/32 - 0s - loss: 0.2051 - accuracy: 0.9425 - val_loss: 0.3099 - val_accuracy: 0.9022\n",
      "Epoch 10/50\n",
      "32/32 - 0s - loss: 0.1778 - accuracy: 0.9513 - val_loss: 0.3279 - val_accuracy: 0.8933\n",
      "Epoch 11/50\n",
      "32/32 - 0s - loss: 0.1458 - accuracy: 0.9644 - val_loss: 0.3042 - val_accuracy: 0.9089\n",
      "Epoch 12/50\n",
      "32/32 - 0s - loss: 0.1245 - accuracy: 0.9667 - val_loss: 0.2730 - val_accuracy: 0.9111\n",
      "Epoch 13/50\n",
      "32/32 - 0s - loss: 0.1047 - accuracy: 0.9758 - val_loss: 0.2588 - val_accuracy: 0.9133\n",
      "Epoch 14/50\n",
      "32/32 - 0s - loss: 0.0916 - accuracy: 0.9773 - val_loss: 0.2289 - val_accuracy: 0.9244\n",
      "Epoch 15/50\n",
      "32/32 - 0s - loss: 0.0748 - accuracy: 0.9825 - val_loss: 0.2180 - val_accuracy: 0.9244\n",
      "Epoch 16/50\n",
      "32/32 - 0s - loss: 0.0647 - accuracy: 0.9830 - val_loss: 0.2388 - val_accuracy: 0.9089\n",
      "Epoch 17/50\n",
      "32/32 - 0s - loss: 0.0507 - accuracy: 0.9901 - val_loss: 0.2232 - val_accuracy: 0.9289\n",
      "Epoch 18/50\n",
      "32/32 - 0s - loss: 0.0418 - accuracy: 0.9911 - val_loss: 0.2059 - val_accuracy: 0.9289\n",
      "Epoch 19/50\n",
      "32/32 - 0s - loss: 0.0366 - accuracy: 0.9941 - val_loss: 0.2178 - val_accuracy: 0.9356\n",
      "Epoch 20/50\n",
      "32/32 - 0s - loss: 0.0288 - accuracy: 0.9946 - val_loss: 0.2236 - val_accuracy: 0.9378\n",
      "Epoch 21/50\n",
      "32/32 - 0s - loss: 0.0251 - accuracy: 0.9948 - val_loss: 0.2255 - val_accuracy: 0.9444\n",
      "Epoch 22/50\n",
      "32/32 - 0s - loss: 0.0215 - accuracy: 0.9970 - val_loss: 0.2283 - val_accuracy: 0.9378\n",
      "Epoch 23/50\n",
      "32/32 - 0s - loss: 0.0157 - accuracy: 0.9985 - val_loss: 0.2347 - val_accuracy: 0.9289\n",
      "Epoch 24/50\n",
      "32/32 - 0s - loss: 0.0148 - accuracy: 0.9978 - val_loss: 0.2058 - val_accuracy: 0.9378\n",
      "Epoch 25/50\n",
      "32/32 - 0s - loss: 0.0100 - accuracy: 0.9993 - val_loss: 0.3341 - val_accuracy: 0.9244\n",
      "Epoch 26/50\n",
      "32/32 - 0s - loss: 0.0136 - accuracy: 0.9978 - val_loss: 0.2243 - val_accuracy: 0.9356\n",
      "Epoch 27/50\n",
      "32/32 - 0s - loss: 0.0097 - accuracy: 0.9980 - val_loss: 0.2369 - val_accuracy: 0.9356\n",
      "Epoch 28/50\n",
      "32/32 - 0s - loss: 0.0048 - accuracy: 1.0000 - val_loss: 0.2427 - val_accuracy: 0.9422\n",
      "Epoch 29/50\n",
      "32/32 - 0s - loss: 0.0088 - accuracy: 0.9985 - val_loss: 0.2176 - val_accuracy: 0.9400\n",
      "Epoch 30/50\n",
      "32/32 - 0s - loss: 0.0049 - accuracy: 0.9993 - val_loss: 0.2577 - val_accuracy: 0.9356\n",
      "Epoch 31/50\n",
      "32/32 - 0s - loss: 0.0083 - accuracy: 0.9978 - val_loss: 0.2016 - val_accuracy: 0.9378\n",
      "Epoch 32/50\n",
      "32/32 - 0s - loss: 0.0046 - accuracy: 0.9995 - val_loss: 0.2329 - val_accuracy: 0.9467\n",
      "Epoch 33/50\n",
      "32/32 - 0s - loss: 0.0028 - accuracy: 0.9998 - val_loss: 0.2232 - val_accuracy: 0.9444\n",
      "Epoch 34/50\n",
      "32/32 - 0s - loss: 0.0038 - accuracy: 0.9988 - val_loss: 0.2413 - val_accuracy: 0.9400\n",
      "Epoch 35/50\n",
      "32/32 - 0s - loss: 0.0066 - accuracy: 0.9990 - val_loss: 0.2533 - val_accuracy: 0.9444\n",
      "Epoch 36/50\n",
      "32/32 - 0s - loss: 0.0019 - accuracy: 0.9998 - val_loss: 0.3512 - val_accuracy: 0.9178\n",
      "Epoch 37/50\n",
      "32/32 - 0s - loss: 0.0012 - accuracy: 1.0000 - val_loss: 0.2352 - val_accuracy: 0.9422\n",
      "Epoch 38/50\n",
      "32/32 - 0s - loss: 0.0037 - accuracy: 0.9993 - val_loss: 0.2459 - val_accuracy: 0.9378\n",
      "Epoch 39/50\n",
      "32/32 - 0s - loss: 0.0031 - accuracy: 0.9995 - val_loss: 0.2771 - val_accuracy: 0.9444\n",
      "Epoch 40/50\n",
      "32/32 - 0s - loss: 7.5792e-04 - accuracy: 1.0000 - val_loss: 0.2364 - val_accuracy: 0.9422\n",
      "Epoch 41/50\n",
      "32/32 - 0s - loss: 0.0019 - accuracy: 0.9995 - val_loss: 0.2655 - val_accuracy: 0.9467\n",
      "Epoch 42/50\n",
      "32/32 - 0s - loss: 0.0014 - accuracy: 0.9998 - val_loss: 0.2430 - val_accuracy: 0.9511\n",
      "Epoch 43/50\n",
      "32/32 - 0s - loss: 0.0012 - accuracy: 0.9995 - val_loss: 0.2819 - val_accuracy: 0.9444\n",
      "Epoch 44/50\n",
      "32/32 - 0s - loss: 0.0026 - accuracy: 0.9990 - val_loss: 0.2430 - val_accuracy: 0.9444\n",
      "Epoch 45/50\n",
      "32/32 - 0s - loss: 4.2612e-04 - accuracy: 1.0000 - val_loss: 0.2675 - val_accuracy: 0.9422\n",
      "Epoch 46/50\n",
      "32/32 - 0s - loss: 3.1206e-04 - accuracy: 1.0000 - val_loss: 0.2741 - val_accuracy: 0.9400\n",
      "Epoch 47/50\n",
      "32/32 - 0s - loss: 0.0026 - accuracy: 0.9988 - val_loss: 0.2800 - val_accuracy: 0.9444\n",
      "Epoch 48/50\n",
      "32/32 - 0s - loss: 1.9377e-04 - accuracy: 1.0000 - val_loss: 0.2805 - val_accuracy: 0.9533\n",
      "Epoch 49/50\n",
      "32/32 - 0s - loss: 0.0046 - accuracy: 0.9983 - val_loss: 0.3250 - val_accuracy: 0.9444\n",
      "Epoch 50/50\n",
      "32/32 - 0s - loss: 6.8506e-04 - accuracy: 1.0000 - val_loss: 0.3107 - val_accuracy: 0.9467\n"
     ]
    }
   ],
   "metadata": {}
  },
  {
   "cell_type": "code",
   "execution_count": 5,
   "source": [
    "\n",
    "net.model.summary()"
   ],
   "outputs": [
    {
     "output_type": "stream",
     "name": "stdout",
     "text": [
      "Model: \"sequential\"\n",
      "_________________________________________________________________\n",
      "Layer (type)                 Output Shape              Param #   \n",
      "=================================================================\n",
      "dense_4 (Dense)              (None, 132)               17556     \n",
      "_________________________________________________________________\n",
      "dense_5 (Dense)              (None, 68)                9044      \n",
      "_________________________________________________________________\n",
      "dense_6 (Dense)              (None, 30)                2070      \n",
      "_________________________________________________________________\n",
      "dense_7 (Dense)              (None, 10)                310       \n",
      "=================================================================\n",
      "Total params: 28,980\n",
      "Trainable params: 28,980\n",
      "Non-trainable params: 0\n",
      "_________________________________________________________________\n"
     ]
    }
   ],
   "metadata": {}
  },
  {
   "cell_type": "code",
   "execution_count": 6,
   "source": [
    "from matplotlib import pyplot as plt\n",
    "fig, (ax1, ax2) = plt.subplots(2, sharex=True,figsize=(10,10))\n",
    "plt.xlabel(\"Epochs\")\n",
    "ax1.set_title(\"Loss\")\n",
    "\n",
    "ax1.plot(history.history['loss'], label='train')\n",
    "ax1.plot(history.history['val_loss'], label='validation')\n",
    "ax1.legend()\n",
    "\n",
    "ax2.set_title(\"Accuracy\")\n",
    "ax2.plot(history.history['accuracy'], label='train')\n",
    "ax2.plot(history.history['val_accuracy'], label='validation')\n",
    "ax2.legend()"
   ],
   "outputs": [
    {
     "output_type": "execute_result",
     "data": {
      "text/plain": [
       "<matplotlib.legend.Legend at 0x7fa897921f70>"
      ]
     },
     "metadata": {},
     "execution_count": 6
    },
    {
     "output_type": "display_data",
     "data": {
      "text/plain": [
       "<Figure size 720x720 with 2 Axes>"
      ],
      "image/png": "[encoded data removed]"
     },
     "metadata": {
      "needs_background": "light"
     }
    }
   ],
   "metadata": {}
  },
  {
   "cell_type": "markdown",
   "source": [
    "# Test folds performance"
   ],
   "metadata": {}
  },
  {
   "cell_type": "code",
   "execution_count": 7,
   "source": [
    "import numpy as np\n",
    "\n",
    "loss = []\n",
    "accuracy = []\n",
    "\n",
    "for fold in [5, 7, 8, 9, 10]:\n",
    "    td = Dataset(dataset_path=f\"../data/processed/test_{fold}_07_18_2021.csv\", test_size=0)\n",
    "    x_test, y_test = td.get_splits()\n",
    "    results = net.model.evaluate(x_test, y_test, batch_size=128)\n",
    "    loss.append(results[0])\n",
    "    accuracy.append(results[1])\n",
    "\n",
    "print(\"\\nAccuracy:\")\n",
    "print(f\"\\tMean: {np.mean(accuracy)} \\n\\tStandard deviation: {np.std(accuracy)}\")\n",
    "\n",
    "print(\"\\nLoss:\")\n",
    "print(f\"\\tMean: {np.mean(loss)} \\n\\tStandard deviation: {np.std(loss)}\")"
   ],
   "outputs": [
    {
     "output_type": "stream",
     "name": "stdout",
     "text": [
      "8/8 [==============================] - 0s 2ms/step - loss: 5.0446 - accuracy: 0.5545\n",
      "7/7 [==============================] - 0s 2ms/step - loss: 3.7717 - accuracy: 0.5513\n",
      "7/7 [==============================] - 0s 2ms/step - loss: 4.0795 - accuracy: 0.6551\n",
      "7/7 [==============================] - 0s 2ms/step - loss: 6.5335 - accuracy: 0.5968\n",
      "7/7 [==============================] - 0s 2ms/step - loss: 4.0820 - accuracy: 0.6260\n",
      "\n",
      "Accuracy:\n",
      "\tMean: 0.5967491626739502 \n",
      "\tStandard deviation: 0.04027931915000453\n",
      "\n",
      "Loss:\n",
      "\tMean: 4.7022747039794925 \n",
      "\tStandard deviation: 1.0108361744926315\n"
     ]
    }
   ],
   "metadata": {}
  }
 ],
 "metadata": {
  "orig_nbformat": 4,
  "language_info": {
   "name": "python"
  }
 },
 "nbformat": 4,
 "nbformat_minor": 2
}