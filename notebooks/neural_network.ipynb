{
 "cells": [
  {
   "cell_type": "code",
   "execution_count": 11,
   "source": [
    "\n",
    "from tensorflow import keras\n",
    "from tensorflow.keras import layers\n",
    "import sys\n",
    "sys.path.append(\"..\")\n",
    "from src.data import Dataset\n",
    "from src.model import NeuralNetwork"
   ],
   "outputs": [],
   "metadata": {}
  },
  {
   "cell_type": "markdown",
   "source": [
    "# Training set"
   ],
   "metadata": {}
  },
  {
   "cell_type": "code",
   "execution_count": 12,
   "source": [
    "d = Dataset(dataset_path=\"../data/processed/train_07_18_2021.csv\")\n",
    "x_train, x_val, y_train, y_val = d.get_splits()"
   ],
   "outputs": [],
   "metadata": {}
  },
  {
   "cell_type": "markdown",
   "source": [
    "# Building the network"
   ],
   "metadata": {}
  },
  {
   "cell_type": "code",
   "execution_count": 13,
   "source": [
    "net = NeuralNetwork(layers=[layers.Dense(units=132, activation='relu'),\n",
    "                            layers.Dense(units=70, activation='relu'),\n",
    "                            layers.Dense(units=50, activation='relu'),\n",
    "                            layers.Dense(10, activation='softmax')], \n",
    "                    optimizer=keras.optimizers.RMSprop(), \n",
    "                    loss=keras.losses.SparseCategoricalCrossentropy(), \n",
    "                    metrics=[\"accuracy\"])"
   ],
   "outputs": [],
   "metadata": {}
  },
  {
   "cell_type": "code",
   "execution_count": 14,
   "source": [
    "\n",
    "history = net.fit(x_train, \n",
    "        y_train, \n",
    "        validation_data=(x_val, y_val),\n",
    "        batch_size=128, \n",
    "        epochs=30);"
   ],
   "outputs": [
    {
     "output_type": "stream",
     "name": "stdout",
     "text": [
      "Epoch 1/30\n",
      "32/32 - 1s - loss: 6.0809 - accuracy: 0.2843 - val_loss: 2.5119 - val_accuracy: 0.3889\n",
      "Epoch 2/30\n",
      "32/32 - 0s - loss: 2.2259 - accuracy: 0.4507 - val_loss: 1.5860 - val_accuracy: 0.4933\n",
      "Epoch 3/30\n",
      "32/32 - 0s - loss: 1.6166 - accuracy: 0.5559 - val_loss: 1.5785 - val_accuracy: 0.5533\n",
      "Epoch 4/30\n",
      "32/32 - 0s - loss: 1.3389 - accuracy: 0.6145 - val_loss: 1.2914 - val_accuracy: 0.6156\n",
      "Epoch 5/30\n",
      "32/32 - 0s - loss: 1.0964 - accuracy: 0.6587 - val_loss: 0.9169 - val_accuracy: 0.7289\n",
      "Epoch 6/30\n",
      "32/32 - 0s - loss: 1.0113 - accuracy: 0.6863 - val_loss: 0.7523 - val_accuracy: 0.7911\n",
      "Epoch 7/30\n",
      "32/32 - 0s - loss: 0.8398 - accuracy: 0.7310 - val_loss: 1.1479 - val_accuracy: 0.6756\n",
      "Epoch 8/30\n",
      "32/32 - 0s - loss: 0.7915 - accuracy: 0.7436 - val_loss: 0.9635 - val_accuracy: 0.7422\n",
      "Epoch 9/30\n",
      "32/32 - 0s - loss: 0.6734 - accuracy: 0.7859 - val_loss: 0.8754 - val_accuracy: 0.7200\n",
      "Epoch 10/30\n",
      "32/32 - 0s - loss: 0.6544 - accuracy: 0.7938 - val_loss: 0.7965 - val_accuracy: 0.7578\n",
      "Epoch 11/30\n",
      "32/32 - 0s - loss: 0.5788 - accuracy: 0.8076 - val_loss: 0.7796 - val_accuracy: 0.7822\n",
      "Epoch 12/30\n",
      "32/32 - 0s - loss: 0.5177 - accuracy: 0.8284 - val_loss: 0.7465 - val_accuracy: 0.7778\n",
      "Epoch 13/30\n",
      "32/32 - 0s - loss: 0.5163 - accuracy: 0.8358 - val_loss: 0.6178 - val_accuracy: 0.8333\n",
      "Epoch 14/30\n",
      "32/32 - 0s - loss: 0.4543 - accuracy: 0.8523 - val_loss: 0.5476 - val_accuracy: 0.8467\n",
      "Epoch 15/30\n",
      "32/32 - 0s - loss: 0.4261 - accuracy: 0.8597 - val_loss: 0.5667 - val_accuracy: 0.8400\n",
      "Epoch 16/30\n",
      "32/32 - 0s - loss: 0.3879 - accuracy: 0.8738 - val_loss: 0.4862 - val_accuracy: 0.8667\n",
      "Epoch 17/30\n",
      "32/32 - 0s - loss: 0.3716 - accuracy: 0.8728 - val_loss: 0.5191 - val_accuracy: 0.8533\n",
      "Epoch 18/30\n",
      "32/32 - 0s - loss: 0.3338 - accuracy: 0.8854 - val_loss: 0.6467 - val_accuracy: 0.7844\n",
      "Epoch 19/30\n",
      "32/32 - 0s - loss: 0.3282 - accuracy: 0.8854 - val_loss: 0.5234 - val_accuracy: 0.8600\n",
      "Epoch 20/30\n",
      "32/32 - 0s - loss: 0.2788 - accuracy: 0.9106 - val_loss: 0.7181 - val_accuracy: 0.8111\n",
      "Epoch 21/30\n",
      "32/32 - 0s - loss: 0.2914 - accuracy: 0.9002 - val_loss: 0.3356 - val_accuracy: 0.9133\n",
      "Epoch 22/30\n",
      "32/32 - 0s - loss: 0.2736 - accuracy: 0.9101 - val_loss: 0.3967 - val_accuracy: 0.8844\n",
      "Epoch 23/30\n",
      "32/32 - 0s - loss: 0.2647 - accuracy: 0.9066 - val_loss: 0.5119 - val_accuracy: 0.8622\n",
      "Epoch 24/30\n",
      "32/32 - 0s - loss: 0.2507 - accuracy: 0.9148 - val_loss: 0.7578 - val_accuracy: 0.8133\n",
      "Epoch 25/30\n",
      "32/32 - 0s - loss: 0.1968 - accuracy: 0.9375 - val_loss: 0.4063 - val_accuracy: 0.8933\n",
      "Epoch 26/30\n",
      "32/32 - 0s - loss: 0.2269 - accuracy: 0.9237 - val_loss: 0.3856 - val_accuracy: 0.8867\n",
      "Epoch 27/30\n",
      "32/32 - 0s - loss: 0.1906 - accuracy: 0.9301 - val_loss: 0.4238 - val_accuracy: 0.8822\n",
      "Epoch 28/30\n",
      "32/32 - 0s - loss: 0.1954 - accuracy: 0.9296 - val_loss: 0.3492 - val_accuracy: 0.9000\n",
      "Epoch 29/30\n",
      "32/32 - 0s - loss: 0.1865 - accuracy: 0.9341 - val_loss: 0.3211 - val_accuracy: 0.9200\n",
      "Epoch 30/30\n",
      "32/32 - 0s - loss: 0.1638 - accuracy: 0.9353 - val_loss: 0.4685 - val_accuracy: 0.8689\n"
     ]
    }
   ],
   "metadata": {}
  },
  {
   "cell_type": "code",
   "execution_count": 15,
   "source": [
    "\n",
    "net.model.summary()"
   ],
   "outputs": [
    {
     "output_type": "stream",
     "name": "stdout",
     "text": [
      "Model: \"sequential_3\"\n",
      "_________________________________________________________________\n",
      "Layer (type)                 Output Shape              Param #   \n",
      "=================================================================\n",
      "dense_16 (Dense)             (None, 132)               17556     \n",
      "_________________________________________________________________\n",
      "dense_17 (Dense)             (None, 70)                9310      \n",
      "_________________________________________________________________\n",
      "dense_18 (Dense)             (None, 50)                3550      \n",
      "_________________________________________________________________\n",
      "dense_19 (Dense)             (None, 10)                510       \n",
      "=================================================================\n",
      "Total params: 30,926\n",
      "Trainable params: 30,926\n",
      "Non-trainable params: 0\n",
      "_________________________________________________________________\n"
     ]
    }
   ],
   "metadata": {}
  },
  {
   "cell_type": "code",
   "execution_count": 16,
   "source": [
    "from matplotlib import pyplot\n",
    "# plot loss during training\n",
    "pyplot.subplot(211)\n",
    "pyplot.title('Loss')\n",
    "pyplot.plot(history.history['loss'], label='train')\n",
    "pyplot.plot(history.history['val_loss'], label='validation')\n",
    "pyplot.legend()\n",
    "# plot accuracy during training\n",
    "pyplot.subplot(212)\n",
    "pyplot.title('Accuracy')\n",
    "pyplot.plot(history.history['accuracy'], label='train')\n",
    "pyplot.plot(history.history['val_accuracy'], label='validation')\n",
    "pyplot.legend()\n",
    "pyplot.show()"
   ],
   "outputs": [
    {
     "output_type": "display_data",
     "data": {
      "text/plain": [
       "<Figure size 432x288 with 2 Axes>"
      ],
      "image/png": "[encoded data removed]"
     },
     "metadata": {
      "needs_background": "light"
     }
    }
   ],
   "metadata": {}
  },
  {
   "cell_type": "markdown",
   "source": [
    "# Test folds performance"
   ],
   "metadata": {}
  },
  {
   "cell_type": "code",
   "execution_count": 18,
   "source": [
    "import numpy as np\n",
    "\n",
    "loss = []\n",
    "accuracy = []\n",
    "\n",
    "for fold in [5, 7, 8, 9, 10]:\n",
    "    td = Dataset(dataset_path=f\"../data/processed/test_{fold}_07_18_2021.csv\", test_size=0)\n",
    "    x_test, y_test = td.get_splits()\n",
    "    results = net.model.evaluate(x_test, y_test, batch_size=128)\n",
    "    loss.append(results[0])\n",
    "    accuracy.append(results[1])\n",
    "\n",
    "print(\"\\nAccuracy:\")\n",
    "print(f\"\\tMean: {np.mean(accuracy)} \\n\\tStandard deviation: {np.std(accuracy)}\")\n",
    "\n",
    "print(\"\\nLoss:\")\n",
    "print(f\"\\tMean: {np.mean(loss)} \\n\\tStandard deviation: {np.std(loss)}\")"
   ],
   "outputs": [
    {
     "output_type": "stream",
     "name": "stdout",
     "text": [
      "8/8 [==============================] - 0s 2ms/step - loss: 3.4402 - accuracy: 0.4690\n",
      "7/7 [==============================] - 0s 2ms/step - loss: 3.5010 - accuracy: 0.4558\n",
      "7/7 [==============================] - 0s 2ms/step - loss: 3.9213 - accuracy: 0.5136\n",
      "7/7 [==============================] - 0s 2ms/step - loss: 3.3797 - accuracy: 0.5821\n",
      "7/7 [==============================] - 0s 2ms/step - loss: 3.1715 - accuracy: 0.5651\n",
      "\n",
      "Accuracy:\n",
      "\tMean: 0.5171466588973999 \n",
      "\tStandard deviation: 0.05021371615777526\n",
      "\n",
      "Loss:\n",
      "\tMean: 3.4827600002288817 \n",
      "\tStandard deviation: 0.24574683474913656\n"
     ]
    }
   ],
   "metadata": {}
  }
 ],
 "metadata": {
  "orig_nbformat": 4,
  "language_info": {
   "name": "python"
  }
 },
 "nbformat": 4,
 "nbformat_minor": 2
}