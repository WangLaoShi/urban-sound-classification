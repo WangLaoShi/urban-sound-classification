{
 "cells": [
  {
   "cell_type": "code",
   "execution_count": 2,
   "source": [
    "import librosa \n",
    "import numpy as np\n",
    "import pandas as pd\n",
    "\n",
    "def get_features(audio_file):\n",
    "    \"\"\"\n",
    "    Extract features from an audio file using Librosa\n",
    "\n",
    "    Args:\n",
    "        audio_file (str): audio file path to load\n",
    "    \"\"\"\n",
    "    def array_map(array):\n",
    "        return [\n",
    "                np.min(array), \n",
    "                np.max(array),\n",
    "                np.average(array)\n",
    "            ]\n",
    "    \n",
    "    def array_reduce(a, b):\n",
    "        return a + b\n",
    "    \n",
    "    y, sr = librosa.load(audio_file, sr = None)\n",
    "    \n",
    "    mfcc = librosa.feature.mfcc(y, sr)\n",
    "    chroma_stft = librosa.feature.chroma_stft(y, sr)\n",
    "    chroma_cqt = librosa.feature.chroma_cqt(y, sr)\n",
    "    \n",
    "    total = np.concatenate((chroma_stft, chroma_cqt), axis=0)\n",
    "    return np.apply_along_axis(array_map, 1, total).flatten()\n"
   ],
   "outputs": [],
   "metadata": {}
  },
  {
   "cell_type": "code",
   "execution_count": 3,
   "source": [
    "import sys\n",
    "sys.path.append(\"..\")\n",
    "\n",
    "metadata_path = \"../data/raw/metadata/UrbanSound8K.csv\"\n",
    "folds = 1\n",
    "audio_files_path = \"../data/raw/audio\"\n",
    "\n",
    "def get_training_dataframe():\n",
    "    \"\"\"\n",
    "    Get the dataframe that represent the training dataset. \n",
    "    The structure is [class, feature_1, feature_2, ...]\n",
    "\n",
    "    Returns:\n",
    "        Pandas Dataframe: training dataset\n",
    "    \"\"\"\n",
    "    data = pd.read_csv(metadata_path)\n",
    "    training_data = data[data[\"fold\"] <= folds]\n",
    "    values = training_data[[\"slice_file_name\", \"fold\", \"classID\"]].values\n",
    "\n",
    "    def m(x):\n",
    "        audio_path = f\"{audio_files_path}/fold{x[1]}/{x[0]}\"\n",
    "        return [x, get_features(audio_path)]\n",
    "    \n",
    "    return values\n",
    "    \n",
    "    \n",
    "    applied_values = np.apply_along_axis(m, 1, values)\n",
    "    flattened = np.apply_along_axis(lambda x: np.insert(x[1], 0, int(x[0][2])), 1, applied_values)\n",
    "    \n",
    "    columns = [\"class\"] + [f\"f_{i}\" for i in range(len(flattened[0]) -1)]\n",
    "    return pd.DataFrame(flattened, columns=columns)\n",
    "    "
   ],
   "outputs": [],
   "metadata": {}
  },
  {
   "cell_type": "code",
   "execution_count": 4,
   "source": [
    "values = get_training_dataframe()"
   ],
   "outputs": [],
   "metadata": {}
  },
  {
   "cell_type": "code",
   "execution_count": 28,
   "source": [
    "def m(x):\n",
    "    audio_path = f\"{audio_files_path}/fold{x[1]}/{x[0]}\"\n",
    "    return np.insert(get_features(audio_path), 0, int(x[2]))\n",
    "\n",
    "applied = []\n",
    "\n",
    "for i in range(10):\n",
    "    applied.append(m(values[0]))\n"
   ],
   "outputs": [
    {
     "output_type": "execute_result",
     "data": {
      "text/plain": [
       "[array([3.0000000e+00, 5.4996501e-04, 1.0000000e+00, 5.2156579e-01,\n",
       "        2.4378455e-04, 1.0000000e+00, 4.6643627e-01, 2.2325404e-04,\n",
       "        1.0000000e+00, 4.4189936e-01, 2.4095856e-04, 1.0000000e+00,\n",
       "        4.3655744e-01, 4.1877734e-04, 1.0000000e+00, 4.4139293e-01,\n",
       "        1.6008995e-03, 1.0000000e+00, 4.5985076e-01, 6.7915488e-04,\n",
       "        1.0000000e+00, 5.0266671e-01, 1.5713300e-03, 1.0000000e+00,\n",
       "        4.9499431e-01, 1.5630984e-03, 1.0000000e+00, 5.2057689e-01,\n",
       "        2.6591271e-03, 1.0000000e+00, 5.5782109e-01, 2.2947788e-03,\n",
       "        1.0000000e+00, 5.6999159e-01, 8.1672042e-04, 1.0000000e+00,\n",
       "        5.9048802e-01, 4.1286558e-02, 1.0000000e+00, 4.8811421e-01,\n",
       "        1.8898871e-02, 1.0000000e+00, 4.7328374e-01, 2.3356535e-02,\n",
       "        1.0000000e+00, 5.4211581e-01, 3.2247614e-02, 1.0000000e+00,\n",
       "        5.2966177e-01, 3.4832668e-02, 1.0000000e+00, 4.7061878e-01,\n",
       "        4.3823812e-02, 9.2045820e-01, 4.6379104e-01, 5.6668647e-02,\n",
       "        1.0000000e+00, 6.4959824e-01, 4.8702613e-02, 1.0000000e+00,\n",
       "        5.4785764e-01, 7.3899269e-02, 1.0000000e+00, 5.7384944e-01,\n",
       "        1.3978554e-01, 1.0000000e+00, 5.8776534e-01, 6.8441682e-02,\n",
       "        1.0000000e+00, 6.3454968e-01, 4.6641111e-02, 1.0000000e+00,\n",
       "        7.4347121e-01], dtype=float32)]"
      ]
     },
     "metadata": {},
     "execution_count": 28
    }
   ],
   "metadata": {}
  },
  {
   "cell_type": "code",
   "execution_count": 19,
   "source": [
    "len(values)"
   ],
   "outputs": [
    {
     "output_type": "execute_result",
     "data": {
      "text/plain": [
       "873"
      ]
     },
     "metadata": {},
     "execution_count": 19
    }
   ],
   "metadata": {}
  }
 ],
 "metadata": {
  "orig_nbformat": 4,
  "language_info": {
   "name": "python"
  }
 },
 "nbformat": 4,
 "nbformat_minor": 2
}