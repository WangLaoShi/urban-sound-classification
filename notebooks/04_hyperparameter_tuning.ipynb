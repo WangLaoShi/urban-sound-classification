{
 "cells": [
  {
   "cell_type": "markdown",
   "source": [
    "# Hyperparameter tuning\n",
    "\n",
    "This notebook focuses on tuning the hyperparameters of an initial network to find a better model on the training set. \n",
    "The starting point is a 4 layered feed forward neural network with 120, 60, 25 and 10 neurons per layer.\n",
    "\n",
    "## Random search\n",
    "To reduce computation a random search is preferred to a complete grid search.\n",
    "A total of 100 models are tested."
   ],
   "metadata": {}
  },
  {
   "cell_type": "code",
   "execution_count": 1,
   "source": [
    "import sys\n",
    "sys.path.append(\"..\")\n",
    "from src.model import NeuralNetwork\n",
    "import numpy as np\n",
    "np.random.seed(1)"
   ],
   "outputs": [],
   "metadata": {}
  },
  {
   "cell_type": "code",
   "execution_count": 2,
   "source": [
    "k = 2\n",
    "neurons = [(120, 60 + i*k, 25 + j*k, 10) for i in (-2,-1,0,1,2) for j in (-2,-1,0,1,2)]\n",
    "\n",
    "learning_rate = [0.001, 0.01, 0.1, 0.5]\n",
    "momentum = [0.0, 0.01, 0.1, 1]\n",
    "epochs = [100]\n",
    "batch_size = [32]\n",
    "\n",
    "param_dist = dict(neurons=neurons, \n",
    "                  learning_rate=learning_rate,\n",
    "                  momentum=momentum, \n",
    "                  epochs=epochs, \n",
    "                  batch_size=batch_size)\n",
    "\n",
    "results = NeuralNetwork.optimize_model(method=\"random\", \n",
    "                                       param_grid=param_dist,\n",
    "                                       dataset_path=\"../data/processed/extended/train_pca.csv\", \n",
    "                                       iterations=100)"
   ],
   "outputs": [
    {
     "output_type": "stream",
     "name": "stdout",
     "text": [
      "Fitting 5 folds for each of 100 candidates, totalling 500 fits\n",
      "WARNING:tensorflow:From /home/fran/.local/lib/python3.8/site-packages/tensorflow/python/ops/array_ops.py:5043: calling gather (from tensorflow.python.ops.array_ops) with validate_indices is deprecated and will be removed in a future version.\n",
      "Instructions for updating:\n",
      "The `validate_indices` argument has no effect. Indices are always validated on CPU and never validated on GPU.\n"
     ]
    }
   ],
   "metadata": {}
  },
  {
   "cell_type": "code",
   "execution_count": 3,
   "source": [
    "print(\"Best: %f using %s\\n\" % (results.best_score_, results.best_params_))\n",
    "means = results.cv_results_['mean_test_score']\n",
    "stds = results.cv_results_['std_test_score']\n",
    "params = results.cv_results_['params']\n",
    "for mean, stdev, param in sorted(zip(means, stds, params), key=lambda x : -x[0])[:3]:\n",
    "    print(\"%f (%f) with: %r\" % (mean, stdev, param))\n",
    "print(\"...\")"
   ],
   "outputs": [
    {
     "output_type": "stream",
     "name": "stdout",
     "text": [
      "Best: 0.629676 using {'neurons': (120, 62, 27, 10), 'momentum': 0.0, 'learning_rate': 0.1, 'epochs': 100, 'batch_size': 32}\n",
      "\n",
      "0.629676 (0.053022) with: {'neurons': (120, 62, 27, 10), 'momentum': 0.0, 'learning_rate': 0.1, 'epochs': 100, 'batch_size': 32}\n",
      "0.629015 (0.042463) with: {'neurons': (120, 64, 29, 10), 'momentum': 0.0, 'learning_rate': 0.1, 'epochs': 100, 'batch_size': 32}\n",
      "0.627230 (0.052611) with: {'neurons': (120, 62, 27, 10), 'momentum': 0.1, 'learning_rate': 0.1, 'epochs': 100, 'batch_size': 32}\n",
      "...\n"
     ]
    }
   ],
   "metadata": {}
  },
  {
   "cell_type": "code",
   "execution_count": 4,
   "source": [
    "\n",
    "best_param = results.best_params_\n",
    "best_param"
   ],
   "outputs": [
    {
     "output_type": "execute_result",
     "data": {
      "text/plain": [
       "{'neurons': (120, 62, 27, 10),\n",
       " 'momentum': 0.0,\n",
       " 'learning_rate': 0.1,\n",
       " 'epochs': 100,\n",
       " 'batch_size': 32}"
      ]
     },
     "metadata": {},
     "execution_count": 4
    }
   ],
   "metadata": {}
  },
  {
   "cell_type": "markdown",
   "source": [
    "# Test sets\n",
    "\n",
    "The final model is evaluated on the test set to determine performances."
   ],
   "metadata": {}
  },
  {
   "cell_type": "code",
   "execution_count": 22,
   "source": [
    "p = results.best_params_\n",
    "\n",
    "model = NeuralNetwork.create_model(neurons=p[\"neurons\"],\n",
    "                                   learning_rate=p[\"learning_rate\"], \n",
    "                                   momentum=0.0)\n",
    "\n",
    "from src.data import Dataset\n",
    "from sklearn.utils import class_weight\n",
    "\n",
    "d = Dataset(dataset_path=\"../data/processed/extended/train_pca.csv\", \n",
    "            test_size=0)\n",
    "\n",
    "from keras.callbacks import EarlyStopping\n",
    "stopper = EarlyStopping(monitor='accuracy', patience=3, verbose=1)\n",
    "fit_params = dict(callbacks=[stopper])\n",
    "\n",
    "x, y = d.get_splits()\n",
    "class_weights = class_weight.compute_class_weight('balanced', np.unique(y), y)\n",
    "weights_dict = dict(zip(np.unique(y), class_weights))\n",
    "\n",
    "model.fit(x, y, class_weight=weights_dict, epochs=p[\"epochs\"], batch_size=p[\"batch_size\"], verbose=0, **fit_params)"
   ],
   "outputs": [
    {
     "output_type": "stream",
     "name": "stdout",
     "text": [
      "Epoch 00016: early stopping\n"
     ]
    },
    {
     "output_type": "execute_result",
     "data": {
      "text/plain": [
       "<tensorflow.python.keras.callbacks.History at 0x7f2d7c5b1b20>"
      ]
     },
     "metadata": {},
     "execution_count": 22
    }
   ],
   "metadata": {}
  },
  {
   "cell_type": "code",
   "execution_count": 23,
   "source": [
    "from src.utils import show_accuracy_loss\n",
    "\n",
    "accuracy, loss = show_accuracy_loss(model, scaling=\"pca\", test_dataset_path=\"../data/processed/extended\")"
   ],
   "outputs": [
    {
     "output_type": "stream",
     "name": "stdout",
     "text": [
      "8/8 [==============================] - 0s 2ms/step - loss: 1.8193 - accuracy: 0.6496\n",
      "7/7 [==============================] - 0s 1ms/step - loss: 2.2970 - accuracy: 0.6169\n",
      "7/7 [==============================] - 0s 2ms/step - loss: 2.3805 - accuracy: 0.7395\n",
      "7/7 [==============================] - 0s 2ms/step - loss: 2.2488 - accuracy: 0.6789\n",
      "7/7 [==============================] - 0s 2ms/step - loss: 1.9732 - accuracy: 0.6774\n",
      "\n",
      "Accuracy:\n",
      "\tMean: 0.6724625587463379 \n",
      "\tStandard deviation: 0.0403987395242968\n",
      "\n",
      "Loss:\n",
      "\tMean: 2.1437448978424074 \n",
      "\tStandard deviation: 0.21210886804849724\n"
     ]
    }
   ],
   "metadata": {}
  }
 ],
 "metadata": {
  "orig_nbformat": 4,
  "language_info": {
   "name": "python",
   "version": "3.8.10",
   "mimetype": "text/x-python",
   "codemirror_mode": {
    "name": "ipython",
    "version": 3
   },
   "pygments_lexer": "ipython3",
   "nbconvert_exporter": "python",
   "file_extension": ".py"
  },
  "kernelspec": {
   "name": "python3",
   "display_name": "Python 3.8.10 64-bit"
  },
  "interpreter": {
   "hash": "916dbcbb3f70747c44a77c7bcd40155683ae19c65e1c03b4aa3499c5328201f1"
  }
 },
 "nbformat": 4,
 "nbformat_minor": 2
}