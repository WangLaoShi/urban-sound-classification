{
  "cells": [
    {
      "cell_type": "markdown",
      "source": [
        "# 向数据集添加特征\n",
        "在对 132 个特征进行性能测试后，添加了 15 个新特征，选择：\n",
        "- 分钟\n",
        "- 最大限度\n",
        "- 意思是\n",
        "- 中位数\n",
        "- 标准差\n",
        "\n",
        "从新功能来看：\n",
        "- 过零率\n",
        "- 滚落\n",
        "- 发病强度\n",
        "\n",
        "我使用相同的类，其中 get_feature 方法已经改变。\n",
        "也应用了缩放，因为它在之前的实验中取得了更好的结果。\n",
        "\n",
        "提取时间从每折叠约 26 秒增加到每折叠 52 秒。\n",
        "该方法和代码与数据集笔记本中使用的相同。\n",
        "\n",
        "主成分分析\n",
        "\n",
        "我也尝试用 PCA 来检查这是否能带来更好的分数，\n",
        "我选择了利用 0.99 方差的特征数量。"
      ],
      "metadata": {}
    },
    {
      "cell_type": "code",
      "execution_count": null,
      "source": [
        "import sys\n",
        "sys.path.append(\"..\")\n",
        "from src.data import Features\n",
        "import pandas as pd\n",
        "import numpy as np"
      ],
      "outputs": [],
      "metadata": {}
    },
    {
      "cell_type": "code",
      "execution_count": null,
      "source": [
        "f = Features(save_path=\"../data/processed/extended\",\n",
        "             save_name=\"train_scaled_extended\",\n",
        "             folds=[1, 2, 3, 4, 6])\n",
        "\n",
        "training_dataframe = f.get_dataframe()"
      ],
      "outputs": [],
      "metadata": {}
    },
    {
      "cell_type": "code",
      "execution_count": null,
      "source": [
        "training_dataframe"
      ],
      "outputs": [],
      "metadata": {}
    },
    {
      "cell_type": "markdown",
      "source": [
        "以下代码将缩放和pca应用于数据集。\n",
        "保存两个训练好的模型，以便重新应用到测试集。"
      ],
      "metadata": {}
    },
    {
      "cell_type": "code",
      "execution_count": null,
      "source": [
        "scaled_df = f.scale_dataframe(training_dataframe,\n",
        "                              save_path=\"../models/scalers/scaler_training_extended.pkl\", \n",
        "                              save_scaler=True)\n",
        "\n",
        "f.save_dataframe(scaled_df, save_name=\"train_extended\")\n",
        "\n",
        "reduced_df = f.select_features(scaled_df, \n",
        "                               n=0.99, \n",
        "                               save_pca=True)\n",
        "f.save_dataframe(reduced_df, save_name=\"train_pca\")\n",
        "\n",
        "reduced_df"
      ],
      "outputs": [],
      "metadata": {}
    },
    {
      "cell_type": "markdown",
      "source": [
        "将缩放和 pca 应用于测试集并保存。"
      ],
      "metadata": {}
    },
    {
      "cell_type": "code",
      "execution_count": null,
      "source": [
        "for fold in [5, 7, 8, 9, 10]:\n",
        "print(f\"处理折叠{fold}\")\n",
        "    \n",
        "    f = Features(save_path=\"../data/processed/extended\",\n",
        "                 save_name=f\"test_{fold}_extended\",\n",
        "                 folds=[fold])\n",
        "    \n",
        "    df = f.get_dataframe()\n",
        "    \n",
        "    scaled = f.apply_scaling(df, \"../models/scalers/scaler_training_extended.pkl\")\n",
        "    f.save_dataframe(scaled, save_name=f\"test_{fold}_extended\")\n",
        "    \n",
        "    reduced = f.apply_pca(scaled, \"../models/pca/pca_training.pkl\")\n",
        "    f.save_dataframe(reduced, save_name=f\"test_{fold}_pca\")"
      ],
      "outputs": [],
      "metadata": {}
    },
    {
      "cell_type": "markdown",
      "source": [
        "# 提取图像训练集"
      ],
      "metadata": {}
    },
    {
      "cell_type": "code",
      "execution_count": null,
      "source": [
        "f = Features(save_path=\"../data/processed/cnn\", \n",
        "             save_name=\"stft\",\n",
        "             folds=[1, 2, 3, 4, 6])\n",
        "\n",
        "features, labels = f.get_save_image_training_set()\n",
        "\n",
        "for fold in [5, 7, 8, 9, 10]:\n",
        "print(f\"处理折叠{fold}\")\n",
        "    \n",
        "    f = Features(save_path=\"../data/processed/cnn\",\n",
        "                 save_name=f\"stft_test_{fold}\",\n",
        "                 folds=[fold])\n",
        "    f.get_save_image_training_set()"
      ],
      "outputs": [],
      "metadata": {}
    }
  ],
  "metadata": {
    "orig_nbformat": 4,
    "language_info": {
      "name": "python",
      "version": "3.8.10",
      "mimetype": "text/x-python",
      "codemirror_mode": {
        "name": "ipython",
        "version": 3
      },
      "pygments_lexer": "ipython3",
      "nbconvert_exporter": "python",
      "file_extension": ".py"
    },
    "kernelspec": {
      "name": "python3",
      "display_name": "Python 3.8.10 64-bit"
    },
    "interpreter": {
      "hash": "916dbcbb3f70747c44a77c7bcd40155683ae19c65e1c03b4aa3499c5328201f1"
    }
  },
  "nbformat": 4,
  "nbformat_minor": 2
}