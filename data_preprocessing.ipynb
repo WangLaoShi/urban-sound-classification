{
 "metadata": {
  "language_info": {
   "codemirror_mode": {
    "name": "ipython",
    "version": 3
   },
   "file_extension": ".py",
   "mimetype": "text/x-python",
   "name": "python",
   "nbconvert_exporter": "python",
   "pygments_lexer": "ipython3",
   "version": "3.8.5"
  },
  "orig_nbformat": 4,
  "kernelspec": {
   "name": "python3",
   "display_name": "Python 3.8.5 64-bit"
  },
  "interpreter": {
   "hash": "916dbcbb3f70747c44a77c7bcd40155683ae19c65e1c03b4aa3499c5328201f1"
  }
 },
 "nbformat": 4,
 "nbformat_minor": 2,
 "cells": [
  {
   "cell_type": "code",
   "execution_count": 29,
   "metadata": {},
   "outputs": [],
   "source": [
    "import librosa\n",
    "import pandas as pd"
   ]
  },
  {
   "cell_type": "code",
   "execution_count": 30,
   "metadata": {},
   "outputs": [
    {
     "output_type": "execute_result",
     "data": {
      "text/plain": [
       "      slice_file_name    fsID  start        end  salience  fold  classID  \\\n",
       "0    100032-3-0-0.wav  100032    0.0   0.317551         1     5        3   \n",
       "1  100263-2-0-117.wav  100263   58.5  62.500000         1     5        2   \n",
       "2  100263-2-0-121.wav  100263   60.5  64.500000         1     5        2   \n",
       "3  100263-2-0-126.wav  100263   63.0  67.000000         1     5        2   \n",
       "4  100263-2-0-137.wav  100263   68.5  72.500000         1     5        2   \n",
       "\n",
       "              class  \n",
       "0          dog_bark  \n",
       "1  children_playing  \n",
       "2  children_playing  \n",
       "3  children_playing  \n",
       "4  children_playing  "
      ],
      "text/html": "<div>\n<style scoped>\n    .dataframe tbody tr th:only-of-type {\n        vertical-align: middle;\n    }\n\n    .dataframe tbody tr th {\n        vertical-align: top;\n    }\n\n    .dataframe thead th {\n        text-align: right;\n    }\n</style>\n<table border=\"1\" class=\"dataframe\">\n  <thead>\n    <tr style=\"text-align: right;\">\n      <th></th>\n      <th>slice_file_name</th>\n      <th>fsID</th>\n      <th>start</th>\n      <th>end</th>\n      <th>salience</th>\n      <th>fold</th>\n      <th>classID</th>\n      <th>class</th>\n    </tr>\n  </thead>\n  <tbody>\n    <tr>\n      <th>0</th>\n      <td>100032-3-0-0.wav</td>\n      <td>100032</td>\n      <td>0.0</td>\n      <td>0.317551</td>\n      <td>1</td>\n      <td>5</td>\n      <td>3</td>\n      <td>dog_bark</td>\n    </tr>\n    <tr>\n      <th>1</th>\n      <td>100263-2-0-117.wav</td>\n      <td>100263</td>\n      <td>58.5</td>\n      <td>62.500000</td>\n      <td>1</td>\n      <td>5</td>\n      <td>2</td>\n      <td>children_playing</td>\n    </tr>\n    <tr>\n      <th>2</th>\n      <td>100263-2-0-121.wav</td>\n      <td>100263</td>\n      <td>60.5</td>\n      <td>64.500000</td>\n      <td>1</td>\n      <td>5</td>\n      <td>2</td>\n      <td>children_playing</td>\n    </tr>\n    <tr>\n      <th>3</th>\n      <td>100263-2-0-126.wav</td>\n      <td>100263</td>\n      <td>63.0</td>\n      <td>67.000000</td>\n      <td>1</td>\n      <td>5</td>\n      <td>2</td>\n      <td>children_playing</td>\n    </tr>\n    <tr>\n      <th>4</th>\n      <td>100263-2-0-137.wav</td>\n      <td>100263</td>\n      <td>68.5</td>\n      <td>72.500000</td>\n      <td>1</td>\n      <td>5</td>\n      <td>2</td>\n      <td>children_playing</td>\n    </tr>\n  </tbody>\n</table>\n</div>"
     },
     "metadata": {},
     "execution_count": 30
    }
   ],
   "source": [
    "metadata_path = \"data/UrbanSound8K/metadata/UrbanSound8K.csv\"\n",
    "data = pd.read_csv(metadata_path)\n",
    "data.head()"
   ]
  },
  {
   "cell_type": "code",
   "execution_count": 31,
   "metadata": {},
   "outputs": [],
   "source": [
    "columns = [\"slice_file_name\", \"fold\", \"classID\", \"class\"]\n",
    "sliced_data = data[columns]"
   ]
  },
  {
   "cell_type": "code",
   "execution_count": 32,
   "metadata": {},
   "outputs": [
    {
     "output_type": "execute_result",
     "data": {
      "text/plain": [
       "      slice_file_name  fold  classID             class\n",
       "0    100032-3-0-0.wav     5        3          dog_bark\n",
       "1  100263-2-0-117.wav     5        2  children_playing\n",
       "2  100263-2-0-121.wav     5        2  children_playing\n",
       "3  100263-2-0-126.wav     5        2  children_playing\n",
       "4  100263-2-0-137.wav     5        2  children_playing"
      ],
      "text/html": "<div>\n<style scoped>\n    .dataframe tbody tr th:only-of-type {\n        vertical-align: middle;\n    }\n\n    .dataframe tbody tr th {\n        vertical-align: top;\n    }\n\n    .dataframe thead th {\n        text-align: right;\n    }\n</style>\n<table border=\"1\" class=\"dataframe\">\n  <thead>\n    <tr style=\"text-align: right;\">\n      <th></th>\n      <th>slice_file_name</th>\n      <th>fold</th>\n      <th>classID</th>\n      <th>class</th>\n    </tr>\n  </thead>\n  <tbody>\n    <tr>\n      <th>0</th>\n      <td>100032-3-0-0.wav</td>\n      <td>5</td>\n      <td>3</td>\n      <td>dog_bark</td>\n    </tr>\n    <tr>\n      <th>1</th>\n      <td>100263-2-0-117.wav</td>\n      <td>5</td>\n      <td>2</td>\n      <td>children_playing</td>\n    </tr>\n    <tr>\n      <th>2</th>\n      <td>100263-2-0-121.wav</td>\n      <td>5</td>\n      <td>2</td>\n      <td>children_playing</td>\n    </tr>\n    <tr>\n      <th>3</th>\n      <td>100263-2-0-126.wav</td>\n      <td>5</td>\n      <td>2</td>\n      <td>children_playing</td>\n    </tr>\n    <tr>\n      <th>4</th>\n      <td>100263-2-0-137.wav</td>\n      <td>5</td>\n      <td>2</td>\n      <td>children_playing</td>\n    </tr>\n  </tbody>\n</table>\n</div>"
     },
     "metadata": {},
     "execution_count": 32
    }
   ],
   "source": [
    "sliced_data.head()"
   ]
  },
  {
   "cell_type": "code",
   "execution_count": 33,
   "metadata": {},
   "outputs": [
    {
     "output_type": "execute_result",
     "data": {
      "text/plain": [
       "['data/UrbanSound8K/audio/fold02/146690-0-0-117.wav',\n",
       " 'data/UrbanSound8K/audio/fold02/60605-9-0-95.wav',\n",
       " 'data/UrbanSound8K/audio/fold02/94710-5-0-3.wav',\n",
       " 'data/UrbanSound8K/audio/fold02/123688-8-0-18.wav',\n",
       " 'data/UrbanSound8K/audio/fold02/44735-5-0-1.wav']"
      ]
     },
     "metadata": {},
     "execution_count": 33
    }
   ],
   "source": [
    "from glob import glob\n",
    "audio_files_list = glob(\"data/UrbanSound8K/audio/*/*\")\n",
    "audio_files_list[:5]"
   ]
  },
  {
   "cell_type": "code",
   "execution_count": 34,
   "metadata": {},
   "outputs": [],
   "source": [
    "processed_audio_files = [\n",
    "    (k.split(\"/\")[-1], list(librosa.load(k, sr = None)[0])) for k in audio_files_list[:10]\n",
    "]"
   ]
  },
  {
   "cell_type": "code",
   "execution_count": 35,
   "metadata": {},
   "outputs": [],
   "source": [
    "processed_df = pd.DataFrame(\n",
    "    {\n",
    "        \"slice_file_name\" : [e[0] for e in processed_audio_files], \n",
    "        \"converted_audio\" : [e[1] for e in processed_audio_files]\n",
    "    }, \n",
    "    \n",
    ")"
   ]
  },
  {
   "cell_type": "code",
   "execution_count": 36,
   "metadata": {},
   "outputs": [],
   "source": [
    "merged_data = data.merge(processed_df)"
   ]
  },
  {
   "cell_type": "code",
   "execution_count": 37,
   "metadata": {},
   "outputs": [],
   "source": [
    "merged_data.to_csv(\"data/converted/converted.csv\")"
   ]
  },
  {
   "cell_type": "code",
   "execution_count": 42,
   "metadata": {},
   "outputs": [
    {
     "output_type": "stream",
     "name": "stdout",
     "text": [
      "(176400,)\n",
      "(176400,)\n",
      "(176400,)\n",
      "(176400,)\n",
      "(176400,)\n",
      "(192000,)\n",
      "(176400,)\n",
      "(176400,)\n",
      "(176400,)\n",
      "(192000,)\n",
      "(176400,)\n",
      "(97356,)\n",
      "(176400,)\n",
      "(176400,)\n",
      "(176400,)\n",
      "(176400,)\n",
      "(176400,)\n",
      "(176400,)\n",
      "(132751,)\n",
      "(176400,)\n",
      "(176400,)\n",
      "(384000,)\n",
      "(176400,)\n",
      "(7897,)\n",
      "(192000,)\n",
      "(176400,)\n",
      "(176400,)\n",
      "(15435,)\n",
      "(192000,)\n",
      "(96857,)\n",
      "(192000,)\n",
      "(176400,)\n",
      "(192000,)\n",
      "(176400,)\n",
      "(176400,)\n",
      "(176400,)\n",
      "(176400,)\n",
      "(384000,)\n",
      "(192000,)\n",
      "(176400,)\n",
      "(192000,)\n",
      "(98880,)\n",
      "(192000,)\n",
      "(176400,)\n",
      "(192000,)\n",
      "(176400,)\n",
      "(176400,)\n",
      "(192000,)\n",
      "(384000,)\n",
      "(176400,)\n",
      "(43124,)\n",
      "(64000,)\n",
      "(192000,)\n",
      "(192000,)\n",
      "(186609,)\n",
      "(176400,)\n",
      "(26901,)\n",
      "(176400,)\n",
      "(176400,)\n",
      "(176400,)\n",
      "(176400,)\n",
      "(176400,)\n",
      "(176400,)\n",
      "(25536,)\n",
      "(176400,)\n",
      "(176400,)\n",
      "(96494,)\n",
      "(116865,)\n",
      "(384000,)\n",
      "(176400,)\n",
      "(192000,)\n",
      "(176400,)\n",
      "(176400,)\n",
      "(176400,)\n",
      "(192000,)\n",
      "(192000,)\n",
      "(176400,)\n",
      "(126240,)\n",
      "(176400,)\n",
      "(384000,)\n",
      "(192000,)\n",
      "(102233,)\n",
      "(192000,)\n",
      "(192000,)\n",
      "(168684,)\n",
      "(192000,)\n",
      "(192000,)\n",
      "(192000,)\n",
      "(176400,)\n",
      "(176400,)\n",
      "(176400,)\n",
      "(64000,)\n",
      "(176400,)\n",
      "(176400,)\n",
      "(176400,)\n",
      "(176400,)\n",
      "(23373,)\n",
      "(176400,)\n",
      "(176400,)\n",
      "(26901,)\n"
     ]
    }
   ],
   "source": [
    "for e in audio_files_list[:100]:\n",
    "    print(librosa.load(e, sr= None)[0].shape)"
   ]
  }
 ]
}